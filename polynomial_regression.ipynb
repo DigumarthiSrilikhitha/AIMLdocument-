{
 "cells": [
  {
   "cell_type": "code",
   "execution_count": 5,
   "id": "4a7aa3f0",
   "metadata": {},
   "outputs": [
    {
     "name": "stdout",
     "output_type": "stream",
     "text": [
      "    S.NO  Attendance of Ml students   ML_Marks\n",
      "0      1                          20        20\n",
      "1      2                          30        30\n",
      "2      3                          35        35\n",
      "3      4                          35        35\n",
      "4      5                          40        40\n",
      "5      6                          45        45\n",
      "6      7                          45        45\n",
      "7      8                          50        50\n",
      "8      9                          50        50\n",
      "9     10                          55        55\n",
      "10    11                          55        55\n",
      "11    12                          60        60\n",
      "12    13                          60        60\n",
      "13    14                          65        65\n",
      "14    15                          65        65\n",
      "15    16                          70        70\n",
      "16    17                          70        70\n",
      "17    18                          75        75\n",
      "18    19                          80        80\n",
      "19    20                          80        80\n",
      "20    21                          85        85\n",
      "21    22                          85        85\n",
      "22    23                          90        90\n",
      "23    24                          90        90\n",
      "24    25                          95        95\n",
      "25    26                          95        95\n",
      "26    27                         100       100\n",
      "27    28                         100       100\n"
     ]
    }
   ],
   "source": [
    "import pandas as pd\n",
    "df = pd.read_csv('Marks.csv')\n",
    "print(df)"
   ]
  },
  {
   "cell_type": "code",
   "execution_count": 8,
   "id": "b59c6edc",
   "metadata": {},
   "outputs": [],
   "source": [
    "#making the independent and dependent varables  = input and output varibles\n",
    "# the polynomial regression is same as linear regression\n",
    "X = df[['Attendance of Ml students ']]\n",
    "y = df['ML_Marks']\n"
   ]
  },
  {
   "cell_type": "code",
   "execution_count": 9,
   "id": "1f6bee8c",
   "metadata": {},
   "outputs": [
    {
     "name": "stdout",
     "output_type": "stream",
     "text": [
      "    Attendance of Ml students \n",
      "0                           20\n",
      "1                           30\n",
      "2                           35\n",
      "3                           35\n",
      "4                           40\n",
      "5                           45\n",
      "6                           45\n",
      "7                           50\n",
      "8                           50\n",
      "9                           55\n",
      "10                          55\n",
      "11                          60\n",
      "12                          60\n",
      "13                          65\n",
      "14                          65\n",
      "15                          70\n",
      "16                          70\n",
      "17                          75\n",
      "18                          80\n",
      "19                          80\n",
      "20                          85\n",
      "21                          85\n",
      "22                          90\n",
      "23                          90\n",
      "24                          95\n",
      "25                          95\n",
      "26                         100\n",
      "27                         100\n",
      "(28, 1)\n"
     ]
    }
   ],
   "source": [
    "print(X)\n",
    "print(X.shape)"
   ]
  },
  {
   "cell_type": "code",
   "execution_count": 10,
   "id": "a354245f",
   "metadata": {},
   "outputs": [],
   "source": [
    "from sklearn.model_selection import train_test_split\n",
    "X_train,X_test,y_train,y_test = train_test_split(X,y,test_size = 0.2)\n"
   ]
  },
  {
   "cell_type": "code",
   "execution_count": 21,
   "id": "d069e754",
   "metadata": {},
   "outputs": [
    {
     "name": "stdout",
     "output_type": "stream",
     "text": [
      "[100.  95.  80.  45.  90.  75.]\n"
     ]
    }
   ],
   "source": [
    "from sklearn.preprocessing import PolynomialFeatures\n",
    "from sklearn.linear_model import LinearRegression\n",
    "\n",
    "# create polynomial features\n",
    "poly = PolynomialFeatures(degree=2)\n",
    "#trasform is used to transform the the train data into all polynomial combinations upto specified degree = 2 and fit\n",
    "X_train_poly = poly.fit_transform(X_train)\n",
    "#trasform is used to transform the the test data into all polynomial combinations upto specified degree = 2\n",
    "X_test_poly = poly.transform(X_test)\n",
    "\n",
    "# fit polynomial regression model\n",
    "model = LinearRegression()\n",
    "model.fit(X_train_poly, y_train)\n",
    "\n",
    "# make predictions on testing data\n",
    "y_pred = model.predict(X_test_poly)\n",
    "print(y_pred)\n"
   ]
  },
  {
   "cell_type": "code",
   "execution_count": 23,
   "id": "08170afa",
   "metadata": {},
   "outputs": [
    {
     "name": "stdout",
     "output_type": "stream",
     "text": [
      "PolynomialFeatures()\n",
      "[[1.000e+00 3.500e+01 1.225e+03]\n",
      " [1.000e+00 9.000e+01 8.100e+03]\n",
      " [1.000e+00 9.500e+01 9.025e+03]\n",
      " [1.000e+00 8.500e+01 7.225e+03]\n",
      " [1.000e+00 5.000e+01 2.500e+03]\n",
      " [1.000e+00 7.000e+01 4.900e+03]\n",
      " [1.000e+00 6.500e+01 4.225e+03]\n",
      " [1.000e+00 7.000e+01 4.900e+03]\n",
      " [1.000e+00 1.000e+02 1.000e+04]\n",
      " [1.000e+00 6.500e+01 4.225e+03]\n",
      " [1.000e+00 3.500e+01 1.225e+03]\n",
      " [1.000e+00 5.500e+01 3.025e+03]\n",
      " [1.000e+00 6.000e+01 3.600e+03]\n",
      " [1.000e+00 8.500e+01 7.225e+03]\n",
      " [1.000e+00 8.000e+01 6.400e+03]\n",
      " [1.000e+00 2.000e+01 4.000e+02]\n",
      " [1.000e+00 5.000e+01 2.500e+03]\n",
      " [1.000e+00 3.000e+01 9.000e+02]\n",
      " [1.000e+00 4.000e+01 1.600e+03]\n",
      " [1.000e+00 6.000e+01 3.600e+03]\n",
      " [1.000e+00 5.500e+01 3.025e+03]\n",
      " [1.000e+00 4.500e+01 2.025e+03]]\n",
      "[[1.000e+00 1.000e+02 1.000e+04]\n",
      " [1.000e+00 9.500e+01 9.025e+03]\n",
      " [1.000e+00 8.000e+01 6.400e+03]\n",
      " [1.000e+00 4.500e+01 2.025e+03]\n",
      " [1.000e+00 9.000e+01 8.100e+03]\n",
      " [1.000e+00 7.500e+01 5.625e+03]]\n"
     ]
    }
   ],
   "source": [
    "print(poly) # polynomialfeatures\n",
    "print(X_train_poly) # trained polynomials\n",
    "print(X_test_poly)\n"
   ]
  },
  {
   "cell_type": "code",
   "execution_count": 16,
   "id": "1914ad05",
   "metadata": {},
   "outputs": [
    {
     "name": "stdout",
     "output_type": "stream",
     "text": [
      "m= [ 0.00000000e+00  1.00000000e+00 -2.29454676e-17]\n",
      "c= -3.979039320256561e-13\n"
     ]
    }
   ],
   "source": [
    "print(\"m=\", model.coef_)\n",
    "print(\"c=\",model.intercept_)"
   ]
  },
  {
   "cell_type": "code",
   "execution_count": 22,
   "id": "a21013ec",
   "metadata": {},
   "outputs": [
    {
     "name": "stdout",
     "output_type": "stream",
     "text": [
      "[100.  95.  80.  45.  90.  75.]\n",
      "R-squared score on testing data:  1.0\n",
      "Mean squared error on testing data:  1.5280761641401147e-26\n",
      "Prediction for new instance:  [32.]\n"
     ]
    },
    {
     "name": "stderr",
     "output_type": "stream",
     "text": [
      "C:\\Users\\saichand.digumarthi\\anaconda3\\lib\\site-packages\\sklearn\\base.py:450: UserWarning: X does not have valid feature names, but PolynomialFeatures was fitted with feature names\n",
      "  warnings.warn(\n"
     ]
    }
   ],
   "source": [
    "from sklearn.metrics import r2_score, mean_squared_error\n",
    "# make predictions on testing data\n",
    "y_pred = model.predict(X_test_poly)\n",
    "print(y_pred)\n",
    "#r2_score value of y_test and predit\n",
    "print(\"R-squared score on testing data: \", r2_score(y_test, y_pred))\n",
    "#mean squared error\n",
    "print(\"Mean squared error on testing data: \", mean_squared_error(y_test,y_pred))\n",
    "# make prediction for new instance\n",
    "new_instance = [[32]]  # assuming there is only one feature\n",
    "new_instance_poly = poly.transform(new_instance)\n",
    "prediction = model.predict(new_instance_poly) # we only predict the 3 inputs bacause the degree=2\n",
    "\n",
    "print(\"Prediction for new instance: \", prediction)\n"
   ]
  },
  {
   "cell_type": "code",
   "execution_count": 25,
   "id": "9c77d186",
   "metadata": {},
   "outputs": [
    {
     "name": "stdout",
     "output_type": "stream",
     "text": [
      "    Actual ML_marks :  predicted_Values by AI :\n",
      "27                100                     100.0\n",
      "25                 95                      95.0\n",
      "18                 80                      80.0\n",
      "5                  45                      45.0\n",
      "23                 90                      90.0\n",
      "17                 75                      75.0\n"
     ]
    }
   ],
   "source": [
    "#y_test(output)and x_test(input) predicted values of polynomial  is same or not ( always prediction = x_test == x_test_poly(degree=2))\n",
    "data = pd.DataFrame({'Actual ML_marks :': y_test , 'predicted_Values by AI :': y_pred})\n",
    "print(data) "
   ]
  },
  {
   "cell_type": "code",
   "execution_count": null,
   "id": "05da785b",
   "metadata": {},
   "outputs": [],
   "source": [
    "######################## Accurate values from machine ################33\n"
   ]
  },
  {
   "cell_type": "code",
   "execution_count": 26,
   "id": "ae52bec2",
   "metadata": {},
   "outputs": [
    {
     "data": {
      "text/html": [
       "<div>\n",
       "<style scoped>\n",
       "    .dataframe tbody tr th:only-of-type {\n",
       "        vertical-align: middle;\n",
       "    }\n",
       "\n",
       "    .dataframe tbody tr th {\n",
       "        vertical-align: top;\n",
       "    }\n",
       "\n",
       "    .dataframe thead th {\n",
       "        text-align: right;\n",
       "    }\n",
       "</style>\n",
       "<table border=\"1\" class=\"dataframe\">\n",
       "  <thead>\n",
       "    <tr style=\"text-align: right;\">\n",
       "      <th></th>\n",
       "      <th>S.NO</th>\n",
       "      <th>Attendance of Ml students</th>\n",
       "      <th>ML_Marks</th>\n",
       "    </tr>\n",
       "  </thead>\n",
       "  <tbody>\n",
       "    <tr>\n",
       "      <th>S.NO</th>\n",
       "      <td>1.000000</td>\n",
       "      <td>0.995398</td>\n",
       "      <td>0.995398</td>\n",
       "    </tr>\n",
       "    <tr>\n",
       "      <th>Attendance of Ml students</th>\n",
       "      <td>0.995398</td>\n",
       "      <td>1.000000</td>\n",
       "      <td>1.000000</td>\n",
       "    </tr>\n",
       "    <tr>\n",
       "      <th>ML_Marks</th>\n",
       "      <td>0.995398</td>\n",
       "      <td>1.000000</td>\n",
       "      <td>1.000000</td>\n",
       "    </tr>\n",
       "  </tbody>\n",
       "</table>\n",
       "</div>"
      ],
      "text/plain": [
       "                                S.NO  Attendance of Ml students   ML_Marks\n",
       "S.NO                        1.000000                    0.995398  0.995398\n",
       "Attendance of Ml students   0.995398                    1.000000  1.000000\n",
       "ML_Marks                    0.995398                    1.000000  1.000000"
      ]
     },
     "execution_count": 26,
     "metadata": {},
     "output_type": "execute_result"
    }
   ],
   "source": [
    "df.corr()"
   ]
  },
  {
   "cell_type": "code",
   "execution_count": 2,
   "id": "febf89fd",
   "metadata": {},
   "outputs": [
    {
     "name": "stdout",
     "output_type": "stream",
     "text": [
      "    S.NO  Attendance of Ml students   ML_Marks\n",
      "0      1                          20        20\n",
      "1      2                          30        30\n",
      "2      3                          35        35\n",
      "3      4                          35        35\n",
      "4      5                          40        40\n",
      "5      6                          45        45\n",
      "6      7                          45        45\n",
      "7      8                          50        50\n",
      "8      9                          50        50\n",
      "9     10                          55        55\n",
      "10    11                          55        55\n",
      "11    12                          60        60\n",
      "12    13                          60        60\n",
      "13    14                          65        65\n",
      "14    15                          65        65\n",
      "15    16                          70        70\n",
      "16    17                          70        70\n",
      "17    18                          75        75\n",
      "18    19                          80        80\n",
      "19    20                          80        80\n",
      "20    21                          85        85\n",
      "21    22                          85        85\n",
      "22    23                          90        90\n",
      "23    24                          90        90\n",
      "24    25                          95        95\n",
      "25    26                          95        95\n",
      "26    27                         100       100\n",
      "27    28                         100       100\n",
      "    Attendance of Ml students \n",
      "0                           20\n",
      "1                           30\n",
      "2                           35\n",
      "3                           35\n",
      "4                           40\n",
      "5                           45\n",
      "6                           45\n",
      "7                           50\n",
      "8                           50\n",
      "9                           55\n",
      "10                          55\n",
      "11                          60\n",
      "12                          60\n",
      "13                          65\n",
      "14                          65\n",
      "15                          70\n",
      "16                          70\n",
      "17                          75\n",
      "18                          80\n",
      "19                          80\n",
      "20                          85\n",
      "21                          85\n",
      "22                          90\n",
      "23                          90\n",
      "24                          95\n",
      "25                          95\n",
      "26                         100\n",
      "27                         100\n",
      "(28, 1)\n",
      "[35. 50. 60. 70. 80. 65.]\n",
      "PolynomialFeatures()\n",
      "[[1.000e+00 5.500e+01 3.025e+03]\n",
      " [1.000e+00 1.000e+02 1.000e+04]\n",
      " [1.000e+00 4.000e+01 1.600e+03]\n",
      " [1.000e+00 7.500e+01 5.625e+03]\n",
      " [1.000e+00 5.000e+01 2.500e+03]\n",
      " [1.000e+00 8.000e+01 6.400e+03]\n",
      " [1.000e+00 9.000e+01 8.100e+03]\n",
      " [1.000e+00 6.000e+01 3.600e+03]\n",
      " [1.000e+00 9.500e+01 9.025e+03]\n",
      " [1.000e+00 3.500e+01 1.225e+03]\n",
      " [1.000e+00 4.500e+01 2.025e+03]\n",
      " [1.000e+00 4.500e+01 2.025e+03]\n",
      " [1.000e+00 9.000e+01 8.100e+03]\n",
      " [1.000e+00 3.000e+01 9.000e+02]\n",
      " [1.000e+00 8.500e+01 7.225e+03]\n",
      " [1.000e+00 7.000e+01 4.900e+03]\n",
      " [1.000e+00 2.000e+01 4.000e+02]\n",
      " [1.000e+00 8.500e+01 7.225e+03]\n",
      " [1.000e+00 1.000e+02 1.000e+04]\n",
      " [1.000e+00 6.500e+01 4.225e+03]\n",
      " [1.000e+00 5.500e+01 3.025e+03]\n",
      " [1.000e+00 9.500e+01 9.025e+03]]\n",
      "[[1.000e+00 3.500e+01 1.225e+03]\n",
      " [1.000e+00 5.000e+01 2.500e+03]\n",
      " [1.000e+00 6.000e+01 3.600e+03]\n",
      " [1.000e+00 7.000e+01 4.900e+03]\n",
      " [1.000e+00 8.000e+01 6.400e+03]\n",
      " [1.000e+00 6.500e+01 4.225e+03]]\n",
      "m= [ 0.00000000e+00  1.00000000e+00 -6.11661943e-17]\n",
      "c= -5.684341886080802e-14\n",
      "[35. 50. 60. 70. 80. 65.]\n",
      "R-squared score on testing data:  1.0\n",
      "Mean squared error on testing data:  2.2298468254247266e-27\n",
      "Prediction for new instance:  [32.]\n",
      "    Actual ML_marks :  predicted_Values by AI :\n",
      "2                  35                      35.0\n",
      "8                  50                      50.0\n",
      "12                 60                      60.0\n",
      "15                 70                      70.0\n",
      "19                 80                      80.0\n",
      "14                 65                      65.0\n"
     ]
    },
    {
     "name": "stderr",
     "output_type": "stream",
     "text": [
      "C:\\Users\\saichand.digumarthi\\anaconda3\\lib\\site-packages\\sklearn\\base.py:450: UserWarning: X does not have valid feature names, but PolynomialFeatures was fitted with feature names\n",
      "  warnings.warn(\n"
     ]
    }
   ],
   "source": [
    "import pandas as pd\n",
    "df = pd.read_csv('Marks.csv')\n",
    "print(df)\n",
    "#making the independent and dependent varables  = input and output varibles\n",
    "# the polynomial regression is same as linear regression\n",
    "X = df[['Attendance of Ml students ']]\n",
    "y = df['ML_Marks']\n",
    "print(X)\n",
    "print(X.shape)\n",
    "from sklearn.model_selection import train_test_split\n",
    "X_train,X_test,y_train,y_test = train_test_split(X,y,test_size = 0.2)\n",
    "from sklearn.preprocessing import PolynomialFeatures\n",
    "from sklearn.linear_model import LinearRegression\n",
    "\n",
    "# create polynomial features\n",
    "poly = PolynomialFeatures(degree=2)\n",
    "#trasform is used to transform the the train data into all polynomial combinations upto specified degree = 2 and fit\n",
    "X_train_poly = poly.fit_transform(X_train)\n",
    "#trasform is used to transform the the test data into all polynomial combinations upto specified degree = 2\n",
    "X_test_poly = poly.transform(X_test)\n",
    "\n",
    "# fit polynomial regression model\n",
    "model = LinearRegression()\n",
    "model.fit(X_train_poly, y_train)\n",
    "\n",
    "# make predictions on testing data\n",
    "y_pred = model.predict(X_test_poly)\n",
    "print(y_pred)\n",
    "print(poly) # polynomialfeatures\n",
    "print(X_train_poly) # trained polynomials\n",
    "print(X_test_poly)\n",
    "print(\"m=\", model.coef_)\n",
    "print(\"c=\",model.intercept_)\n",
    "\n",
    "from sklearn.metrics import r2_score, mean_squared_error\n",
    "# make predictions on testing data\n",
    "y_pred = model.predict(X_test_poly)\n",
    "print(y_pred)\n",
    "#r2_score value of y_test and predit\n",
    "print(\"R-squared score on testing data: \", r2_score(y_test, y_pred))\n",
    "#mean squared error\n",
    "print(\"Mean squared error on testing data: \", mean_squared_error(y_test,y_pred))\n",
    "# make prediction for new instance\n",
    "new_instance = [[32]]  # assuming there is only one feature\n",
    "new_instance_poly = poly.transform(new_instance)\n",
    "prediction = model.predict(new_instance_poly) # we only predict the 3 inputs bacause the degree=2\n",
    "\n",
    "print(\"Prediction for new instance: \", prediction)\n",
    "#y_test(output)and x_test(input) predicted values of polynomial  is same or not ( always prediction = x_test == x_test_poly(degree=2))\n",
    "data = pd.DataFrame({'Actual ML_marks :': y_test , 'predicted_Values by AI :': y_pred})\n",
    "print(data)\n"
   ]
  },
  {
   "cell_type": "code",
   "execution_count": null,
   "id": "14f79adb",
   "metadata": {},
   "outputs": [],
   "source": []
  }
 ],
 "metadata": {
  "kernelspec": {
   "display_name": "Python 3 (ipykernel)",
   "language": "python",
   "name": "python3"
  },
  "language_info": {
   "codemirror_mode": {
    "name": "ipython",
    "version": 3
   },
   "file_extension": ".py",
   "mimetype": "text/x-python",
   "name": "python",
   "nbconvert_exporter": "python",
   "pygments_lexer": "ipython3",
   "version": "3.9.12"
  }
 },
 "nbformat": 4,
 "nbformat_minor": 5
}
