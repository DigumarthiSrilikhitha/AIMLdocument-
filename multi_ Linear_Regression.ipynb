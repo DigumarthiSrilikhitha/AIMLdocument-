{
 "cells": [
  {
   "cell_type": "code",
   "execution_count": 72,
   "id": "fdf45414",
   "metadata": {},
   "outputs": [
    {
     "name": "stdout",
     "output_type": "stream",
     "text": [
      "    S.NO  Attendance of Ml students   Certifications based on ML  ML_Marks\n",
      "0      1                          20                           2        20\n",
      "1      2                          30                           2        30\n",
      "2      3                          35                           2        35\n",
      "3      4                          35                           3        35\n",
      "4      5                          40                           2        40\n",
      "5      6                          45                           3        45\n",
      "6      7                          45                           2        45\n",
      "7      8                          50                           3        50\n",
      "8      9                          50                           2        50\n",
      "9     10                          55                           3        55\n",
      "10    11                          55                           2        55\n",
      "11    12                          60                           3        60\n",
      "12    13                          60                           2        60\n",
      "13    14                          65                           3        65\n",
      "14    15                          65                           2        65\n",
      "15    16                          70                           3        70\n",
      "16    17                          70                           2        70\n",
      "17    18                          75                           3        75\n",
      "18    19                          80                           3        80\n",
      "19    20                          80                           2        80\n",
      "20    21                          85                           3        85\n",
      "21    22                          85                           2        85\n",
      "22    23                          90                           3        90\n",
      "23    24                          90                           2        90\n",
      "24    25                          95                           3        95\n",
      "25    26                          95                           2        95\n",
      "26    27                         100                           3       100\n",
      "27    28                         100                           2       100\n"
     ]
    }
   ],
   "source": [
    "import pandas as pd\n",
    "df = pd.read_csv('ml_data.csv')\n",
    "print(df)"
   ]
  },
  {
   "cell_type": "code",
   "execution_count": 73,
   "id": "05e1a9b7",
   "metadata": {},
   "outputs": [],
   "source": [
    "# dividing the dependent and indepedent variables\n",
    "#here, the multi linear have two inputs\n",
    "X = df[['Attendance of Ml students ', 'Certifications based on ML']] # input\n",
    "y = df['ML_Marks'] #output"
   ]
  },
  {
   "cell_type": "code",
   "execution_count": 74,
   "id": "fca94ab0",
   "metadata": {},
   "outputs": [
    {
     "name": "stdout",
     "output_type": "stream",
     "text": [
      "    Attendance of Ml students   Certifications based on ML\n",
      "0                           20                           2\n",
      "1                           30                           2\n",
      "2                           35                           2\n",
      "3                           35                           3\n",
      "4                           40                           2\n",
      "5                           45                           3\n",
      "6                           45                           2\n",
      "7                           50                           3\n",
      "8                           50                           2\n",
      "9                           55                           3\n",
      "10                          55                           2\n",
      "11                          60                           3\n",
      "12                          60                           2\n",
      "13                          65                           3\n",
      "14                          65                           2\n",
      "15                          70                           3\n",
      "16                          70                           2\n",
      "17                          75                           3\n",
      "18                          80                           3\n",
      "19                          80                           2\n",
      "20                          85                           3\n",
      "21                          85                           2\n",
      "22                          90                           3\n",
      "23                          90                           2\n",
      "24                          95                           3\n",
      "25                          95                           2\n",
      "26                         100                           3\n",
      "27                         100                           2\n",
      "(28, 2)\n"
     ]
    }
   ],
   "source": [
    "print(X)\n",
    "print(X.shape)"
   ]
  },
  {
   "cell_type": "code",
   "execution_count": 75,
   "id": "9ecccec0",
   "metadata": {},
   "outputs": [
    {
     "name": "stdout",
     "output_type": "stream",
     "text": [
      "0      20\n",
      "1      30\n",
      "2      35\n",
      "3      35\n",
      "4      40\n",
      "5      45\n",
      "6      45\n",
      "7      50\n",
      "8      50\n",
      "9      55\n",
      "10     55\n",
      "11     60\n",
      "12     60\n",
      "13     65\n",
      "14     65\n",
      "15     70\n",
      "16     70\n",
      "17     75\n",
      "18     80\n",
      "19     80\n",
      "20     85\n",
      "21     85\n",
      "22     90\n",
      "23     90\n",
      "24     95\n",
      "25     95\n",
      "26    100\n",
      "27    100\n",
      "Name: ML_Marks, dtype: int64\n",
      "(28,)\n"
     ]
    }
   ],
   "source": [
    "print(y)\n",
    "print(y.shape)"
   ]
  },
  {
   "cell_type": "code",
   "execution_count": 76,
   "id": "f34b3b10",
   "metadata": {},
   "outputs": [],
   "source": [
    "#spliting the data into training and testing = training = 80% , testing  = 20%\n",
    "from sklearn.model_selection import train_test_split\n",
    "X_train,X_test,y_train,y_test = train_test_split(X,y,test_size = 0.2)\n"
   ]
  },
  {
   "cell_type": "code",
   "execution_count": 77,
   "id": "29680d4e",
   "metadata": {},
   "outputs": [
    {
     "name": "stdout",
     "output_type": "stream",
     "text": [
      "    Attendance of Ml students   Certifications based on ML\n",
      "15                          70                           3\n",
      "25                          95                           2\n",
      "1                           30                           2\n",
      "16                          70                           2\n",
      "8                           50                           2\n",
      "3                           35                           3\n",
      "4                           40                           2\n",
      "17                          75                           3\n",
      "27                         100                           2\n",
      "22                          90                           3\n",
      "19                          80                           2\n",
      "24                          95                           3\n",
      "20                          85                           3\n",
      "26                         100                           3\n",
      "7                           50                           3\n",
      "6                           45                           2\n",
      "2                           35                           2\n",
      "18                          80                           3\n",
      "5                           45                           3\n",
      "14                          65                           2\n",
      "23                          90                           2\n",
      "10                          55                           2\n",
      "(22, 2)\n",
      "    Attendance of Ml students   Certifications based on ML\n",
      "12                          60                           2\n",
      "0                           20                           2\n",
      "21                          85                           2\n",
      "11                          60                           3\n",
      "9                           55                           3\n",
      "13                          65                           3\n",
      "(6, 2)\n"
     ]
    }
   ],
   "source": [
    "print(X_train)\n",
    "print(X_train.shape)\n",
    "print(X_test)\n",
    "print(X_test.shape)"
   ]
  },
  {
   "cell_type": "code",
   "execution_count": 78,
   "id": "56faae2d",
   "metadata": {},
   "outputs": [
    {
     "name": "stdout",
     "output_type": "stream",
     "text": [
      "15     70\n",
      "25     95\n",
      "1      30\n",
      "16     70\n",
      "8      50\n",
      "3      35\n",
      "4      40\n",
      "17     75\n",
      "27    100\n",
      "22     90\n",
      "19     80\n",
      "24     95\n",
      "20     85\n",
      "26    100\n",
      "7      50\n",
      "6      45\n",
      "2      35\n",
      "18     80\n",
      "5      45\n",
      "14     65\n",
      "23     90\n",
      "10     55\n",
      "Name: ML_Marks, dtype: int64\n",
      "(22,)\n",
      "12    60\n",
      "0     20\n",
      "21    85\n",
      "11    60\n",
      "9     55\n",
      "13    65\n",
      "Name: ML_Marks, dtype: int64\n",
      "(6,)\n"
     ]
    }
   ],
   "source": [
    "print(y_train)\n",
    "print(y_train.shape)\n",
    "print(y_test)\n",
    "print(y_test.shape)"
   ]
  },
  {
   "cell_type": "code",
   "execution_count": 79,
   "id": "7c227cde",
   "metadata": {},
   "outputs": [
    {
     "data": {
      "text/plain": [
       "LinearRegression()"
      ]
     },
     "execution_count": 79,
     "metadata": {},
     "output_type": "execute_result"
    }
   ],
   "source": [
    "#make the multilinear model\n",
    "from sklearn.linear_model import LinearRegression\n",
    "model = LinearRegression()\n",
    "model.fit(X_train,y_train)\n"
   ]
  },
  {
   "cell_type": "code",
   "execution_count": 80,
   "id": "53d2ac63",
   "metadata": {},
   "outputs": [
    {
     "name": "stdout",
     "output_type": "stream",
     "text": [
      "[45.]\n"
     ]
    },
    {
     "name": "stderr",
     "output_type": "stream",
     "text": [
      "C:\\Users\\saichand.digumarthi\\anaconda3\\lib\\site-packages\\sklearn\\base.py:450: UserWarning: X does not have valid feature names, but LinearRegression was fitted with feature names\n",
      "  warnings.warn(\n"
     ]
    }
   ],
   "source": [
    "#predict the output [marks] from inputs of attendence and certifications\n",
    "result = model.predict([[45,4]])\n",
    "print(result)"
   ]
  },
  {
   "cell_type": "code",
   "execution_count": 81,
   "id": "cc470258",
   "metadata": {},
   "outputs": [
    {
     "name": "stdout",
     "output_type": "stream",
     "text": [
      "[60. 20. 85. 60. 55. 65.]\n"
     ]
    }
   ],
   "source": [
    "predicted_result = model.predict(X_test)\n",
    "print(predicted_result)"
   ]
  },
  {
   "cell_type": "code",
   "execution_count": 82,
   "id": "50f79f2a",
   "metadata": {},
   "outputs": [
    {
     "name": "stdout",
     "output_type": "stream",
     "text": [
      "-0.6648044692737431\n"
     ]
    }
   ],
   "source": [
    "from sklearn.metrics import r2_score,mean_squared_error\n",
    "predicted_r2_score = r2_score(y_test,predictes_result)\n",
    "print(predicted_r2_score)"
   ]
  },
  {
   "cell_type": "code",
   "execution_count": 2,
   "id": "e8d2ea4f",
   "metadata": {},
   "outputs": [
    {
     "ename": "NameError",
     "evalue": "name 'predictes_result' is not defined",
     "output_type": "error",
     "traceback": [
      "\u001b[1;31m---------------------------------------------------------------------------\u001b[0m",
      "\u001b[1;31mNameError\u001b[0m                                 Traceback (most recent call last)",
      "Input \u001b[1;32mIn [2]\u001b[0m, in \u001b[0;36m<cell line: 1>\u001b[1;34m()\u001b[0m\n\u001b[1;32m----> 1\u001b[0m \u001b[38;5;28mprint\u001b[39m(\u001b[38;5;124m\"\u001b[39m\u001b[38;5;124mMean Squared Error : \u001b[39m\u001b[38;5;124m\"\u001b[39m , mean_squared_error(y_test,\u001b[43mpredictes_result\u001b[49m))\n",
      "\u001b[1;31mNameError\u001b[0m: name 'predictes_result' is not defined"
     ]
    }
   ],
   "source": [
    "print(\"Mean Squared Error : \" , mean_squared_error(y_test,predictes_result))"
   ]
  },
  {
   "cell_type": "code",
   "execution_count": 84,
   "id": "3f35d27a",
   "metadata": {},
   "outputs": [
    {
     "name": "stdout",
     "output_type": "stream",
     "text": [
      "    Actual ML_marks :  predicted_Values by AI :\n",
      "12                 60                      60.0\n",
      "0                  20                      20.0\n",
      "21                 85                      85.0\n",
      "11                 60                      60.0\n",
      "9                  55                      55.0\n",
      "13                 65                      65.0\n"
     ]
    }
   ],
   "source": [
    "data = pd.DataFrame({'Actual ML_marks :': y_test , 'predicted_Values by AI :': predicted_result})\n",
    "print(data)"
   ]
  },
  {
   "cell_type": "code",
   "execution_count": null,
   "id": "bbca913c",
   "metadata": {},
   "outputs": [],
   "source": [
    "###########################  END ##################################33"
   ]
  },
  {
   "cell_type": "code",
   "execution_count": 5,
   "id": "d8b6c903",
   "metadata": {},
   "outputs": [
    {
     "name": "stdout",
     "output_type": "stream",
     "text": [
      "    S.NO  Attendance of Ml students   Certifications based on ML  ML_Marks\n",
      "0      1                          20                           2        20\n",
      "1      2                          30                           2        30\n",
      "2      3                          35                           2        35\n",
      "3      4                          35                           3        35\n",
      "4      5                          40                           2        40\n",
      "5      6                          45                           3        45\n",
      "6      7                          45                           2        45\n",
      "7      8                          50                           3        50\n",
      "8      9                          50                           2        50\n",
      "9     10                          55                           3        55\n",
      "10    11                          55                           2        55\n",
      "11    12                          60                           3        60\n",
      "12    13                          60                           2        60\n",
      "13    14                          65                           3        65\n",
      "14    15                          65                           2        65\n",
      "15    16                          70                           3        70\n",
      "16    17                          70                           2        70\n",
      "17    18                          75                           3        75\n",
      "18    19                          80                           3        80\n",
      "19    20                          80                           2        80\n",
      "20    21                          85                           3        85\n",
      "21    22                          85                           2        85\n",
      "22    23                          90                           3        90\n",
      "23    24                          90                           2        90\n",
      "24    25                          95                           3        95\n",
      "25    26                          95                           2        95\n",
      "26    27                         100                           3       100\n",
      "27    28                         100                           2       100\n",
      "    Attendance of Ml students   Certifications based on ML\n",
      "0                           20                           2\n",
      "1                           30                           2\n",
      "2                           35                           2\n",
      "3                           35                           3\n",
      "4                           40                           2\n",
      "5                           45                           3\n",
      "6                           45                           2\n",
      "7                           50                           3\n",
      "8                           50                           2\n",
      "9                           55                           3\n",
      "10                          55                           2\n",
      "11                          60                           3\n",
      "12                          60                           2\n",
      "13                          65                           3\n",
      "14                          65                           2\n",
      "15                          70                           3\n",
      "16                          70                           2\n",
      "17                          75                           3\n",
      "18                          80                           3\n",
      "19                          80                           2\n",
      "20                          85                           3\n",
      "21                          85                           2\n",
      "22                          90                           3\n",
      "23                          90                           2\n",
      "24                          95                           3\n",
      "25                          95                           2\n",
      "26                         100                           3\n",
      "27                         100                           2\n",
      "(28, 2)\n",
      "0      20\n",
      "1      30\n",
      "2      35\n",
      "3      35\n",
      "4      40\n",
      "5      45\n",
      "6      45\n",
      "7      50\n",
      "8      50\n",
      "9      55\n",
      "10     55\n",
      "11     60\n",
      "12     60\n",
      "13     65\n",
      "14     65\n",
      "15     70\n",
      "16     70\n",
      "17     75\n",
      "18     80\n",
      "19     80\n",
      "20     85\n",
      "21     85\n",
      "22     90\n",
      "23     90\n",
      "24     95\n",
      "25     95\n",
      "26    100\n",
      "27    100\n",
      "Name: ML_Marks, dtype: int64\n",
      "(28,)\n",
      "    Attendance of Ml students   Certifications based on ML\n",
      "13                          65                           3\n",
      "9                           55                           3\n",
      "3                           35                           3\n",
      "27                         100                           2\n",
      "18                          80                           3\n",
      "22                          90                           3\n",
      "15                          70                           3\n",
      "8                           50                           2\n",
      "25                          95                           2\n",
      "24                          95                           3\n",
      "21                          85                           2\n",
      "14                          65                           2\n",
      "2                           35                           2\n",
      "19                          80                           2\n",
      "10                          55                           2\n",
      "11                          60                           3\n",
      "26                         100                           3\n",
      "5                           45                           3\n",
      "1                           30                           2\n",
      "16                          70                           2\n",
      "12                          60                           2\n",
      "4                           40                           2\n",
      "(22, 2)\n",
      "    Attendance of Ml students   Certifications based on ML\n",
      "23                          90                           2\n",
      "17                          75                           3\n",
      "0                           20                           2\n",
      "6                           45                           2\n",
      "7                           50                           3\n",
      "20                          85                           3\n",
      "(6, 2)\n",
      "13     65\n",
      "9      55\n",
      "3      35\n",
      "27    100\n",
      "18     80\n",
      "22     90\n",
      "15     70\n",
      "8      50\n",
      "25     95\n",
      "24     95\n",
      "21     85\n",
      "14     65\n",
      "2      35\n",
      "19     80\n",
      "10     55\n",
      "11     60\n",
      "26    100\n",
      "5      45\n",
      "1      30\n",
      "16     70\n",
      "12     60\n",
      "4      40\n",
      "Name: ML_Marks, dtype: int64\n",
      "(22,)\n",
      "23    90\n",
      "17    75\n",
      "0     20\n",
      "6     45\n",
      "7     50\n",
      "20    85\n",
      "Name: ML_Marks, dtype: int64\n",
      "(6,)\n",
      "[45.]\n",
      "[90. 75. 20. 45. 50. 85.]\n",
      "1.0\n",
      "Mean Squared Error :  1.682903264471492e-28\n",
      "    Actual ML_marks :  predicted_Values by AI :\n",
      "23                 90                      90.0\n",
      "17                 75                      75.0\n",
      "0                  20                      20.0\n",
      "6                  45                      45.0\n",
      "7                  50                      50.0\n",
      "20                 85                      85.0\n"
     ]
    },
    {
     "name": "stderr",
     "output_type": "stream",
     "text": [
      "C:\\Users\\saichand.digumarthi\\anaconda3\\lib\\site-packages\\sklearn\\base.py:450: UserWarning: X does not have valid feature names, but LinearRegression was fitted with feature names\n",
      "  warnings.warn(\n"
     ]
    }
   ],
   "source": [
    "import pandas as pd\n",
    "df = pd.read_csv('ml_data.csv')\n",
    "print(df)\n",
    "# dividing the dependent and indepedent variables\n",
    "#here, the multi linear have two inputs\n",
    "X = df[['Attendance of Ml students ', 'Certifications based on ML']] # input\n",
    "y = df['ML_Marks'] #output\n",
    "print(X)\n",
    "print(X.shape)\n",
    "print(y)\n",
    "print(y.shape)\n",
    "#spliting the data into training and testing = training = 80% , testing  = 20%\n",
    "from sklearn.model_selection import train_test_split\n",
    "X_train,X_test,y_train,y_test = train_test_split(X,y,test_size = 0.2)\n",
    "print(X_train)\n",
    "print(X_train.shape)\n",
    "print(X_test)\n",
    "print(X_test.shape)\n",
    "print(y_train)\n",
    "print(y_train.shape)\n",
    "print(y_test)\n",
    "print(y_test.shape)\n",
    "#make the multilinear model\n",
    "from sklearn.linear_model import LinearRegression\n",
    "model = LinearRegression()\n",
    "model.fit(X_train,y_train)\n",
    "#predict the output [marks] from inputs of attendence and certifications\n",
    "result = model.predict([[45,4]])\n",
    "print(result)\n",
    "predicted_result = model.predict(X_test)\n",
    "print(predicted_result)\n",
    "from sklearn.metrics import r2_score,mean_squared_error\n",
    "predicted_r2_score = r2_score(y_test,predicted_result)\n",
    "print(predicted_r2_score)\n",
    "print(\"Mean Squared Error : \" , mean_squared_error(y_test,predicted_result))\n",
    "data = pd.DataFrame({'Actual ML_marks :': y_test , 'predicted_Values by AI :': predicted_result})\n",
    "print(data)\n"
   ]
  },
  {
   "cell_type": "code",
   "execution_count": null,
   "id": "89dfd139",
   "metadata": {},
   "outputs": [],
   "source": []
  }
 ],
 "metadata": {
  "kernelspec": {
   "display_name": "Python 3 (ipykernel)",
   "language": "python",
   "name": "python3"
  },
  "language_info": {
   "codemirror_mode": {
    "name": "ipython",
    "version": 3
   },
   "file_extension": ".py",
   "mimetype": "text/x-python",
   "name": "python",
   "nbconvert_exporter": "python",
   "pygments_lexer": "ipython3",
   "version": "3.9.12"
  }
 },
 "nbformat": 4,
 "nbformat_minor": 5
}
