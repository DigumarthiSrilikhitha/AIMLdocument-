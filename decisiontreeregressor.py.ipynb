{
 "cells": [
  {
   "cell_type": "code",
   "execution_count": 8,
   "id": "98708d11",
   "metadata": {},
   "outputs": [],
   "source": [
    "from sklearn.linear_model import LinearRegression\n",
    "from sklearn.metrics import mean_absolute_error,mean_squared_error,r2_score"
   ]
  },
  {
   "cell_type": "code",
   "execution_count": null,
   "id": "db382c86",
   "metadata": {},
   "outputs": [],
   "source": []
  },
  {
   "cell_type": "code",
   "execution_count": 9,
   "id": "85458376",
   "metadata": {},
   "outputs": [
    {
     "name": "stdout",
     "output_type": "stream",
     "text": [
      "    S.NO  Attendence  Marks\n",
      "0      1          60     70\n",
      "1      2          56     71\n",
      "2      3          67     72\n",
      "3      4          68     73\n",
      "4      5          69     74\n",
      "5      6          70     75\n",
      "6      7          71     76\n",
      "7      8          72     77\n",
      "8      9          73     78\n",
      "9     10          74     79\n",
      "10    11          75     80\n",
      "11    12          76     81\n",
      "12    13          77     82\n",
      "13    14          78     83\n",
      "14    15          79     84\n",
      "15    16          80     85\n",
      "16    17          81     86\n",
      "17    18          82     87\n",
      "18    19          83     88\n",
      "19    20          84     89\n"
     ]
    }
   ],
   "source": [
    "import pandas as pd\n",
    "\n",
    "df = pd.read_csv('Attendence.csv')\n",
    "\n",
    "print(df)"
   ]
  },
  {
   "cell_type": "code",
   "execution_count": 14,
   "id": "838120b5",
   "metadata": {},
   "outputs": [],
   "source": [
    "X = df[['Attendence']]\n",
    "y = df['Marks'] #output is always in 1D"
   ]
  },
  {
   "cell_type": "code",
   "execution_count": 15,
   "id": "50085fd4",
   "metadata": {},
   "outputs": [
    {
     "name": "stdout",
     "output_type": "stream",
     "text": [
      "(20, 1)\n"
     ]
    }
   ],
   "source": [
    "print(X.shape)"
   ]
  },
  {
   "cell_type": "code",
   "execution_count": 16,
   "id": "d325dcf2",
   "metadata": {},
   "outputs": [
    {
     "name": "stdout",
     "output_type": "stream",
     "text": [
      "(20,)\n"
     ]
    }
   ],
   "source": [
    "print(y.shape)"
   ]
  },
  {
   "cell_type": "code",
   "execution_count": 17,
   "id": "82333e07",
   "metadata": {},
   "outputs": [],
   "source": [
    "from sklearn.model_selection import train_test_split\n",
    "X_train,X_test,y_train,y_test=train_test_split(X,y,test_size=0.25,random_state=0)"
   ]
  },
  {
   "cell_type": "code",
   "execution_count": 25,
   "id": "2cb10555",
   "metadata": {},
   "outputs": [
    {
     "name": "stdout",
     "output_type": "stream",
     "text": [
      "(20, 1)\n",
      "(5, 1)\n",
      "(15, 1)\n",
      "(15,)\n",
      "(5,)\n",
      "(20,)\n"
     ]
    }
   ],
   "source": [
    "print(X.shape)\n",
    "print(X_test.shape)\n",
    "print(X_train.shape)\n",
    "print(y_train.shape)\n",
    "print(y_test.shape)\n",
    "print(y.shape)"
   ]
  },
  {
   "cell_type": "code",
   "execution_count": 20,
   "id": "cf2da018",
   "metadata": {},
   "outputs": [
    {
     "name": "stdout",
     "output_type": "stream",
     "text": [
      "[86.5 70.  86.5 76.5 79. ]\n"
     ]
    }
   ],
   "source": [
    "from sklearn.tree import DecisionTreeRegressor\n",
    "\n",
    "# Create a decision tree regressor with max_depth=3\n",
    "tree = DecisionTreeRegressor(max_depth=3)\n",
    "\n",
    "# Fit the model using the training data\n",
    "tree.fit(X_train, y_train)\n",
    "\n",
    "# Predict on the test data\n",
    "y_pred = tree.predict(X_test)\n",
    "print(y_pred)"
   ]
  },
  {
   "cell_type": "code",
   "execution_count": 21,
   "id": "8e7ac653",
   "metadata": {},
   "outputs": [
    {
     "name": "stdout",
     "output_type": "stream",
     "text": [
      "Mean Absolute Error: 1.5\n"
     ]
    }
   ],
   "source": [
    "# Evaluate the model\n",
    "mae = mean_absolute_error(y_test, y_pred)\n",
    "print('Mean Absolute Error:', mae)"
   ]
  },
  {
   "cell_type": "code",
   "execution_count": 23,
   "id": "44f9825d",
   "metadata": {},
   "outputs": [
    {
     "name": "stdout",
     "output_type": "stream",
     "text": [
      "Root Mean Squared Error: 1.5968719422671311\n"
     ]
    }
   ],
   "source": [
    "# Evaluate the performance of the model\n",
    "import numpy as np\n",
    "from sklearn.metrics import mean_squared_error\n",
    "mse = mean_squared_error(y_test, y_pred)\n",
    "rmse = np.sqrt(mse)\n",
    "print('Root Mean Squared Error:', rmse)\n"
   ]
  },
  {
   "cell_type": "code",
   "execution_count": 4,
   "id": "53b46604",
   "metadata": {},
   "outputs": [
    {
     "name": "stdout",
     "output_type": "stream",
     "text": [
      "    S.NO  Attendence  Marks\n",
      "0      1          60     63\n",
      "1      2          66     64\n",
      "2      3          67     65\n",
      "3      4          68     66\n",
      "4      5          69     67\n",
      "5      6          70     68\n",
      "6      7          71     69\n",
      "7      8          72     70\n",
      "8      9          73     71\n",
      "9     10          74     72\n",
      "10    11          75     73\n",
      "11    12          76     74\n",
      "12    13          77     75\n",
      "13    14          78     76\n",
      "14    15          79     77\n",
      "15    16          80     78\n",
      "16    17          81     79\n",
      "17    18          82     80\n",
      "18    19          83     81\n",
      "19    20          84     82\n",
      "(20, 1)\n",
      "(20,)\n",
      "(15, 1)\n",
      "(5, 1)\n",
      "(15,)\n",
      "(5,)\n",
      "[79.5 65.5 79.5 69.5 72. ]\n",
      "Mean Absolute Error: 1.6\n",
      "Root Mean Squared Error: 1.6733200530681511\n"
     ]
    }
   ],
   "source": [
    "# Import necessary libraries\n",
    "import pandas as pd\n",
    "import numpy as np\n",
    "from sklearn.linear_model import LinearRegression\n",
    "from sklearn.tree import DecisionTreeRegressor\n",
    "from sklearn.metrics import mean_absolute_error, mean_squared_error, r2_score\n",
    "from sklearn.model_selection import train_test_split\n",
    "\n",
    "# Load the dataset\n",
    "df = pd.read_csv('Attendence.csv')\n",
    "print(df)\n",
    "\n",
    "# Define input and output variables\n",
    "X = df[['Attendence']] # Use 'Attendance' instead of 'Attendence'\n",
    "y = df['Marks']\n",
    "\n",
    "# Print shapes of input and output data\n",
    "print(X.shape)\n",
    "print(y.shape)\n",
    "\n",
    "# Split data into training and testing sets\n",
    "X_train, X_test, y_train, y_test = train_test_split(X, y, test_size=0.25, random_state=0)\n",
    "\n",
    "# Print shapes of training and testing data\n",
    "print(X_train.shape)\n",
    "print(X_test.shape)\n",
    "print(y_train.shape)\n",
    "print(y_test.shape)\n",
    "\n",
    "# Create a decision tree regressor with max_depth=3\n",
    "tree = DecisionTreeRegressor(max_depth=3)\n",
    "\n",
    "# Fit the model using the training data\n",
    "tree.fit(X_train, y_train)\n",
    "\n",
    "# Predict on the test data\n",
    "y_pred = tree.predict(X_test)\n",
    "print(y_pred)\n",
    "\n",
    "# Evaluate the model using mean absolute error\n",
    "mae = mean_absolute_error(y_test, y_pred)\n",
    "print('Mean Absolute Error:', mae)\n",
    "\n",
    "# Evaluate the performance of the model using root mean squared error\n",
    "mse = mean_squared_error(y_test, y_pred)\n",
    "rmse = np.sqrt(mse)\n",
    "print('Root Mean Squared Error:', rmse)\n"
   ]
  },
  {
   "cell_type": "code",
   "execution_count": null,
   "id": "52fa2f4f",
   "metadata": {},
   "outputs": [],
   "source": []
  }
 ],
 "metadata": {
  "kernelspec": {
   "display_name": "Python 3 (ipykernel)",
   "language": "python",
   "name": "python3"
  },
  "language_info": {
   "codemirror_mode": {
    "name": "ipython",
    "version": 3
   },
   "file_extension": ".py",
   "mimetype": "text/x-python",
   "name": "python",
   "nbconvert_exporter": "python",
   "pygments_lexer": "ipython3",
   "version": "3.9.12"
  }
 },
 "nbformat": 4,
 "nbformat_minor": 5
}
