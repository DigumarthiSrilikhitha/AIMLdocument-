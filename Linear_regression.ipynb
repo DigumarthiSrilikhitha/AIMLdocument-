{
 "cells": [
  {
   "cell_type": "code",
   "execution_count": 2,
   "id": "0651cbf0",
   "metadata": {
    "scrolled": true
   },
   "outputs": [
    {
     "name": "stdout",
     "output_type": "stream",
     "text": [
      "    S.NO  Attendence  Marks\n",
      "0      1          60     63\n",
      "1      2          66     64\n",
      "2      3          67     65\n",
      "3      4          68     66\n",
      "4      5          69     67\n",
      "5      6          70     68\n",
      "6      7          71     69\n",
      "7      8          72     70\n",
      "8      9          73     71\n",
      "9     10          74     72\n",
      "10    11          75     73\n",
      "11    12          76     74\n",
      "12    13          77     75\n",
      "13    14          78     76\n",
      "14    15          79     77\n",
      "15    16          80     78\n",
      "16    17          81     79\n",
      "17    18          82     80\n",
      "18    19          83     81\n",
      "19    20          84     82\n"
     ]
    }
   ],
   "source": [
    "# read the data\n",
    "import pandas as pd\n",
    "df= pd.read_csv(\"Attendence.csv\")\n",
    "print(df)"
   ]
  },
  {
   "cell_type": "code",
   "execution_count": 3,
   "id": "7e7d45ca",
   "metadata": {},
   "outputs": [],
   "source": [
    "#making independent and dependent variables\n",
    "#linear\n",
    "X = df[['Attendence']]\n",
    "y = df['Marks']"
   ]
  },
  {
   "cell_type": "code",
   "execution_count": 4,
   "id": "d43e21e3",
   "metadata": {},
   "outputs": [
    {
     "name": "stdout",
     "output_type": "stream",
     "text": [
      "    Attendence\n",
      "0           60\n",
      "1           66\n",
      "2           67\n",
      "3           68\n",
      "4           69\n",
      "5           70\n",
      "6           71\n",
      "7           72\n",
      "8           73\n",
      "9           74\n",
      "10          75\n",
      "11          76\n",
      "12          77\n",
      "13          78\n",
      "14          79\n",
      "15          80\n",
      "16          81\n",
      "17          82\n",
      "18          83\n",
      "19          84\n",
      "(20, 1)\n"
     ]
    }
   ],
   "source": [
    "print(X)\n",
    "print(X.shape)"
   ]
  },
  {
   "cell_type": "code",
   "execution_count": 5,
   "id": "84065f9e",
   "metadata": {},
   "outputs": [
    {
     "name": "stdout",
     "output_type": "stream",
     "text": [
      "0     63\n",
      "1     64\n",
      "2     65\n",
      "3     66\n",
      "4     67\n",
      "5     68\n",
      "6     69\n",
      "7     70\n",
      "8     71\n",
      "9     72\n",
      "10    73\n",
      "11    74\n",
      "12    75\n",
      "13    76\n",
      "14    77\n",
      "15    78\n",
      "16    79\n",
      "17    80\n",
      "18    81\n",
      "19    82\n",
      "Name: Marks, dtype: int64\n",
      "(20,)\n"
     ]
    }
   ],
   "source": [
    "print(y)\n",
    "print(y.shape)"
   ]
  },
  {
   "cell_type": "code",
   "execution_count": 6,
   "id": "279a3c0a",
   "metadata": {},
   "outputs": [
    {
     "name": "stderr",
     "output_type": "stream",
     "text": [
      "C:\\Users\\saichand.digumarthi\\anaconda3\\lib\\site-packages\\scipy\\__init__.py:146: UserWarning: A NumPy version >=1.16.5 and <1.23.0 is required for this version of SciPy (detected version 1.26.4\n",
      "  warnings.warn(f\"A NumPy version >={np_minversion} and <{np_maxversion}\"\n"
     ]
    }
   ],
   "source": [
    "# dividing the data into testing and training data set\n",
    "# training = 80 % testing = 20%\n",
    "#import the module\n",
    "from sklearn.model_selection import train_test_split\n",
    "X_train,X_test,y_train,y_test = train_test_split(X,y,test_size = 0.2) # 0.2 = 20%\n"
   ]
  },
  {
   "cell_type": "code",
   "execution_count": 7,
   "id": "2bfbcd3a",
   "metadata": {},
   "outputs": [
    {
     "name": "stdout",
     "output_type": "stream",
     "text": [
      "    Attendence\n",
      "13          78\n",
      "7           72\n",
      "2           67\n",
      "17          82\n",
      "15          80\n",
      "0           60\n",
      "1           66\n",
      "12          77\n",
      "10          75\n",
      "8           73\n",
      "5           70\n",
      "3           68\n",
      "19          84\n",
      "18          83\n",
      "9           74\n",
      "6           71\n",
      "(16, 1)\n",
      "    Attendence\n",
      "16          81\n",
      "14          79\n",
      "4           69\n",
      "11          76\n",
      "(4, 1)\n"
     ]
    }
   ],
   "source": [
    "print(X_train)\n",
    "print(X_train.shape)\n",
    "print(X_test)\n",
    "print(X_test.shape)\n"
   ]
  },
  {
   "cell_type": "code",
   "execution_count": 8,
   "id": "f8404f56",
   "metadata": {},
   "outputs": [
    {
     "name": "stdout",
     "output_type": "stream",
     "text": [
      "13    76\n",
      "7     70\n",
      "2     65\n",
      "17    80\n",
      "15    78\n",
      "0     63\n",
      "1     64\n",
      "12    75\n",
      "10    73\n",
      "8     71\n",
      "5     68\n",
      "3     66\n",
      "19    82\n",
      "18    81\n",
      "9     72\n",
      "6     69\n",
      "Name: Marks, dtype: int64\n",
      "16    79\n",
      "14    77\n",
      "4     67\n",
      "11    74\n",
      "Name: Marks, dtype: int64\n"
     ]
    }
   ],
   "source": [
    "print(y_train)\n",
    "print(y_test)"
   ]
  },
  {
   "cell_type": "code",
   "execution_count": 9,
   "id": "cef2509a",
   "metadata": {},
   "outputs": [
    {
     "data": {
      "text/plain": [
       "LinearRegression()"
      ]
     },
     "execution_count": 9,
     "metadata": {},
     "output_type": "execute_result"
    }
   ],
   "source": [
    "#making the linear regression model\n",
    "#fit is used to train the machine\n",
    "# First import the linear regression\n",
    "from sklearn.linear_model import LinearRegression\n",
    "model = LinearRegression()\n",
    "model.fit(X_train,y_train)"
   ]
  },
  {
   "cell_type": "code",
   "execution_count": 10,
   "id": "47d9bc09",
   "metadata": {},
   "outputs": [
    {
     "name": "stdout",
     "output_type": "stream",
     "text": [
      "[85.7729442]\n"
     ]
    },
    {
     "name": "stderr",
     "output_type": "stream",
     "text": [
      "C:\\Users\\saichand.digumarthi\\anaconda3\\lib\\site-packages\\sklearn\\base.py:450: UserWarning: X does not have valid feature names, but LinearRegression was fitted with feature names\n",
      "  warnings.warn(\n"
     ]
    }
   ],
   "source": [
    "# predicting value by the machine by our train data\n",
    "result = model.predict([[89]]) # input\n",
    "print(result)"
   ]
  },
  {
   "cell_type": "code",
   "execution_count": 11,
   "id": "7f88629b",
   "metadata": {},
   "outputs": [
    {
     "name": "stdout",
     "output_type": "stream",
     "text": [
      "[78.58058003 76.78248899 67.79203377 74.08535242]\n"
     ]
    }
   ],
   "source": [
    "# predictint the values of all test data\n",
    "prediction = model.predict(X_test) # input # pridicting the output by model with training data \n",
    "print(prediction)"
   ]
  },
  {
   "cell_type": "code",
   "execution_count": 12,
   "id": "8bf6452c",
   "metadata": {},
   "outputs": [
    {
     "name": "stdout",
     "output_type": "stream",
     "text": [
      "0.9896335143484127\n"
     ]
    }
   ],
   "source": [
    "# checking the machine how accurately the machine giving the output\n",
    "# by r2_score\n",
    "# by comparing the predicted values and y_test # output \n",
    "#first import \n",
    "from sklearn.metrics import mean_absolute_error,mean_squared_error,r2_score\n",
    "predit_r2_score = r2_score(y_test,prediction)\n",
    "print(predit_r2_score) # 1.0 = 100%\n"
   ]
  },
  {
   "cell_type": "code",
   "execution_count": 13,
   "id": "efa09330",
   "metadata": {},
   "outputs": [
    {
     "name": "stdout",
     "output_type": "stream",
     "text": [
      "Mean Squared Error :  0.21445667191721218\n",
      "0.9896335143484127\n"
     ]
    }
   ],
   "source": [
    "# predicting the actual and predicted value is same.. 0.0 = same\n",
    "print(\"Mean Squared Error : \" , mean_squared_error(y_test,prediction))\n",
    "print(r2_score(y_test,prediction))"
   ]
  },
  {
   "cell_type": "code",
   "execution_count": 14,
   "id": "71d4c9b2",
   "metadata": {},
   "outputs": [
    {
     "name": "stdout",
     "output_type": "stream",
     "text": [
      "    Actual ML_marks :  predicted_Values by AI :\n",
      "16                 79                 78.580580\n",
      "14                 77                 76.782489\n",
      "4                  67                 67.792034\n",
      "11                 74                 74.085352\n"
     ]
    }
   ],
   "source": [
    "data = pd.DataFrame({'Actual ML_marks :': y_test , 'predicted_Values by AI :': prediction})\n",
    "print(data) "
   ]
  },
  {
   "cell_type": "code",
   "execution_count": 15,
   "id": "8159d6a3",
   "metadata": {},
   "outputs": [],
   "source": [
    "############### the result is that your machine is not giving accurate data result #######################"
   ]
  },
  {
   "cell_type": "code",
   "execution_count": 16,
   "id": "1fea1b6c",
   "metadata": {},
   "outputs": [
    {
     "name": "stdout",
     "output_type": "stream",
     "text": [
      "    S.NO  Attendence  Marks\n",
      "0      1          60     63\n",
      "1      2          66     64\n",
      "2      3          67     65\n",
      "3      4          68     66\n",
      "4      5          69     67\n",
      "5      6          70     68\n",
      "6      7          71     69\n",
      "7      8          72     70\n",
      "8      9          73     71\n",
      "9     10          74     72\n",
      "10    11          75     73\n",
      "11    12          76     74\n",
      "12    13          77     75\n",
      "13    14          78     76\n",
      "14    15          79     77\n",
      "15    16          80     78\n",
      "16    17          81     79\n",
      "17    18          82     80\n",
      "18    19          83     81\n",
      "19    20          84     82\n",
      "    Attendence\n",
      "0           60\n",
      "1           66\n",
      "2           67\n",
      "3           68\n",
      "4           69\n",
      "5           70\n",
      "6           71\n",
      "7           72\n",
      "8           73\n",
      "9           74\n",
      "10          75\n",
      "11          76\n",
      "12          77\n",
      "13          78\n",
      "14          79\n",
      "15          80\n",
      "16          81\n",
      "17          82\n",
      "18          83\n",
      "19          84\n",
      "(20, 1)\n",
      "0     63\n",
      "1     64\n",
      "2     65\n",
      "3     66\n",
      "4     67\n",
      "5     68\n",
      "6     69\n",
      "7     70\n",
      "8     71\n",
      "9     72\n",
      "10    73\n",
      "11    74\n",
      "12    75\n",
      "13    76\n",
      "14    77\n",
      "15    78\n",
      "16    79\n",
      "17    80\n",
      "18    81\n",
      "19    82\n",
      "Name: Marks, dtype: int64\n",
      "(20,)\n",
      "    Attendence\n",
      "13          78\n",
      "6           71\n",
      "10          75\n",
      "19          84\n",
      "0           60\n",
      "3           68\n",
      "14          79\n",
      "5           70\n",
      "8           73\n",
      "9           74\n",
      "16          81\n",
      "17          82\n",
      "18          83\n",
      "1           66\n",
      "12          77\n",
      "15          80\n",
      "(16, 1)\n",
      "    Attendence\n",
      "11          76\n",
      "2           67\n",
      "7           72\n",
      "4           69\n",
      "(4, 1)\n",
      "13    76\n",
      "6     69\n",
      "10    73\n",
      "19    82\n",
      "0     63\n",
      "3     66\n",
      "14    77\n",
      "5     68\n",
      "8     71\n",
      "9     72\n",
      "16    79\n",
      "17    80\n",
      "18    81\n",
      "1     64\n",
      "12    75\n",
      "15    78\n",
      "Name: Marks, dtype: int64\n",
      "11    74\n",
      "2     65\n",
      "7     70\n",
      "4     67\n",
      "Name: Marks, dtype: int64\n",
      "[85.77999818]\n",
      "[74.20941692 66.19901451 70.64923807 67.97910393]\n",
      "0.9377903082820452\n",
      "Mean Squared Error :  0.7154114547564803\n",
      "    Actual ML_marks :  predicted_Values by AI :\n",
      "11                 74                 74.209417\n",
      "2                  65                 66.199015\n",
      "7                  70                 70.649238\n",
      "4                  67                 67.979104\n"
     ]
    },
    {
     "name": "stderr",
     "output_type": "stream",
     "text": [
      "C:\\Users\\saichand.digumarthi\\anaconda3\\lib\\site-packages\\sklearn\\base.py:450: UserWarning: X does not have valid feature names, but LinearRegression was fitted with feature names\n",
      "  warnings.warn(\n"
     ]
    }
   ],
   "source": [
    "# read the data\n",
    "import pandas as pd\n",
    "df= pd.read_csv(\"Attendence.csv\")\n",
    "print(df)\n",
    "#making independent and dependent variables\n",
    "#linear\n",
    "X = df[['Attendence']]\n",
    "y = df['Marks']\n",
    "print(X)\n",
    "print(X.shape)\n",
    "print(y)\n",
    "print(y.shape)\n",
    "# dividing the data into testing and training data set\n",
    "# training = 80 % testing = 20%\n",
    "#import the module\n",
    "from sklearn.model_selection import train_test_split\n",
    "X_train,X_test,y_train,y_test = train_test_split(X,y,test_size = 0.2) # 0.2 = 20%\n",
    "print(X_train)\n",
    "print(X_train.shape)\n",
    "print(X_test)\n",
    "print(X_test.shape)\n",
    "print(y_train)\n",
    "print(y_test)\n",
    "#making the linear regression model\n",
    "#fit is used to train the machine\n",
    "# First import the linear regression\n",
    "from sklearn.linear_model import LinearRegression\n",
    "model = LinearRegression()\n",
    "model.fit(X_train,y_train)\n",
    "# predicting value by the machine by our train data\n",
    "result = model.predict([[89]]) # input\n",
    "print(result)\n",
    "# predictint the values of all test data\n",
    "prediction = model.predict(X_test) # input # pridicting the output by model with training data \n",
    "print(prediction)\n",
    "# checking the machine how accurately the machine giving the output\n",
    "# by r2_score\n",
    "# by comparing the predicted values and y_test # output \n",
    "#first import \n",
    "from sklearn.metrics import mean_absolute_error,mean_squared_error,r2_score\n",
    "predit_r2_score = r2_score(y_test,prediction)\n",
    "print(predit_r2_score) # 1.0 = 100%\n",
    "# predicting the actual and predicted value is same.. 0.0 = same\n",
    "print(\"Mean Squared Error : \" , mean_squared_error(y_test,prediction))\n",
    "data = pd.DataFrame({'Actual ML_marks :': y_test , 'predicted_Values by AI :': prediction})\n",
    "print(data)\n"
   ]
  },
  {
   "cell_type": "code",
   "execution_count": null,
   "id": "5a6a0661",
   "metadata": {},
   "outputs": [],
   "source": []
  }
 ],
 "metadata": {
  "kernelspec": {
   "display_name": "Python 3 (ipykernel)",
   "language": "python",
   "name": "python3"
  },
  "language_info": {
   "codemirror_mode": {
    "name": "ipython",
    "version": 3
   },
   "file_extension": ".py",
   "mimetype": "text/x-python",
   "name": "python",
   "nbconvert_exporter": "python",
   "pygments_lexer": "ipython3",
   "version": "3.9.12"
  }
 },
 "nbformat": 4,
 "nbformat_minor": 5
}
